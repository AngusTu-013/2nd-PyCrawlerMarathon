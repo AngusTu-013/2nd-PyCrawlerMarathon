{
 "cells": [
  {
   "cell_type": "markdown",
   "metadata": {},
   "source": [
    "# API 資料串接 - 以 知乎 API 實作範例\n",
    "\n",
    "\n",
    "\n",
    "* 了解知乎 API 使用方式與回傳內容\n",
    "* 撰寫程式存取 API 且添加標頭\n",
    "\n",
    "\n"
   ]
  },
  {
   "cell_type": "markdown",
   "metadata": {},
   "source": [
    "## 作業目標\n",
    "\n",
    "* 根據範例提供的 API ，完成以下問題：\n",
    "\n",
    "    1. 取出知乎問題發問時間\n",
    "    2. 取出第一筆與最後一筆回答的時間\n"
   ]
  },
  {
   "cell_type": "markdown",
   "metadata": {},
   "source": [
    "### 1. 取出知乎問題發問時間"
   ]
  },
  {
   "cell_type": "code",
   "execution_count": 31,
   "metadata": {},
   "outputs": [
    {
     "name": "stdout",
     "output_type": "stream",
     "text": [
      "1 id= 637938925 , created_time= 1554085028\n",
      "2 id= 683070334 , created_time= 1557824412\n",
      "3 id= 163537026 , created_time= 1493693113\n",
      "4 id= 873825546 , created_time= 1572318426\n",
      "5 id= 609522449 , created_time= 1551238885\n"
     ]
    }
   ],
   "source": [
    "# 1. 取出知乎問題發問時間\n",
    "\n",
    "'''\n",
    "Your Code\n",
    "'''\n",
    "import requests\n",
    "import json\n",
    "\n",
    "headers = {'user-agent': 'Mozilla/5.0 (Windows NT 6.1; Win64; x64) AppleWebKit/537.36 (KHTML, like Gecko) Chrome/80.0.3987.132 Safari/537.36'}\n",
    "r = requests.get('https://www.zhihu.com/api/v4/questions/55493026/answers', headers=headers)\n",
    "response = r.text\n",
    "#print(response)\n",
    "\n",
    "data = json.loads(response)\n",
    "i=1\n",
    "#for k in data:\n",
    "#    print(k)\n",
    "    \n",
    "#print(type(data['data']))\n",
    "#for d in data['paging']:\n",
    "#    print(i, d)\n",
    "#    i +=1\n",
    "\n",
    "i=1\n",
    "for d in data['data']:\n",
    "    #print(i, d)\n",
    "    print(i, 'id=', d['id'],', created_time=' ,d['created_time'])\n",
    "    i +=1"
   ]
  },
  {
   "cell_type": "markdown",
   "metadata": {},
   "source": [
    "### 2. 取出第一筆與最後一筆回答的時間"
   ]
  },
  {
   "cell_type": "code",
   "execution_count": 34,
   "metadata": {},
   "outputs": [
    {
     "name": "stdout",
     "output_type": "stream",
     "text": [
      "   1st - updated_time: 1558451618\n",
      "latest - updated_time: 1559194081\n"
     ]
    }
   ],
   "source": [
    "# 2. 取出第一筆與最後一筆回答的時間\n",
    "\n",
    "'''\n",
    "Your Code\n",
    "'''\n",
    "print('   1st - updated_time:', data['data'][0]['updated_time'])\n",
    "\n",
    "print('latest - updated_time:',data['data'][-1]['updated_time'])"
   ]
  }
 ],
 "metadata": {
  "kernelspec": {
   "display_name": "Python 3",
   "language": "python",
   "name": "python3"
  },
  "language_info": {
   "codemirror_mode": {
    "name": "ipython",
    "version": 3
   },
   "file_extension": ".py",
   "mimetype": "text/x-python",
   "name": "python",
   "nbconvert_exporter": "python",
   "pygments_lexer": "ipython3",
   "version": "3.6.6"
  }
 },
 "nbformat": 4,
 "nbformat_minor": 2
}
